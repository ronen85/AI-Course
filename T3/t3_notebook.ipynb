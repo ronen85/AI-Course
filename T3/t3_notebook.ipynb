{
 "cells": [
  {
   "cell_type": "markdown",
   "metadata": {
    "collapsed": true,
    "pycharm": {
     "name": "#%% md\n"
    },
    "slideshow": {
     "slide_type": "slide"
    }
   },
   "source": [
    "# Python Tutorial [3]\n",
    "- **Python as an OOP language**\n",
    "OOP = Object-oriented programming\n",
    "- **Copy in Python**\n",
    "When we use `=` the user might think that he creates a new and fresh object; well, he doesn’t.\n",
    "- **Python's Dictionaries**\n",
    "Basically, dictionaries are sequences that are indexed by keys.\n"
   ]
  },
  {
   "cell_type": "markdown",
   "metadata": {
    "pycharm": {
     "name": "#%% md\n"
    },
    "slideshow": {
     "slide_type": "slide"
    }
   },
   "source": [
    "   # Objects in Python\n",
    "- Python treats everything as an object.\n",
    "    - That includes sequences, numbers and even functions themselves.\n",
    "- Objects can contain: \n",
    "    - data: object's attributes\n",
    "    - code: object's functions, procedures or methods.\n",
    "\n",
    "<center>\n",
    "<img src=\"images/object.jpeg\" width=\"25%\" height=\"25%\">\n",
    "</center>"
   ]
  },
  {
   "cell_type": "code",
   "execution_count": 1,
   "metadata": {
    "pycharm": {
     "is_executing": false,
     "name": "#%%\n"
    },
    "slideshow": {
     "slide_type": "subslide"
    }
   },
   "outputs": [
    {
     "name": "stdout",
     "output_type": "stream",
     "text": [
      "x is: (3.5+1j)\n",
      "The real part of x is: 3.5\n",
      "The complex conjugate of x is: (3.5-1j)\n",
      "\n",
      "['Hello', 'World']\n"
     ]
    }
   ],
   "source": [
    "\"\"\"\n",
    "A complex number is an object with a field that contains: \n",
    "    2 fields (x.real, x.imag)\n",
    "    code (e.g. below)\n",
    "\"\"\"\n",
    "x = complex(3.5,1)\n",
    "print(f'x is: {x}')\n",
    "print(f'The real part of x is: {x.real}')\n",
    "print(f'The complex conjugate of x is: {x.conjugate()}')\n",
    "\n",
    "\"\"\"\n",
    "A string is an object that contains: \n",
    "    indexed sequence of characters ('Intro to AI')\n",
    "    code (e.g. below)\n",
    "\"\"\"\n",
    "print()\n",
    "x = 'Hello World'\n",
    "print(x.split())"
   ]
  },
  {
   "cell_type": "markdown",
   "metadata": {
    "pycharm": {
     "name": "#%% md\n"
    },
    "slideshow": {
     "slide_type": "slide"
    }
   },
   "source": [
    "# Understanding Python assignment\n",
    "When we use `=` the user might think that he creates a new and fresh object; well, he doesn’t.\n",
    "```python \n",
    "x = 100\n",
    "y = x\n",
    "x = 200\n",
    "print(y)\n",
    "```\n",
    "Quick question: what is the value of y?"
   ]
  },
  {
   "cell_type": "code",
   "execution_count": 2,
   "metadata": {
    "pycharm": {
     "is_executing": false,
     "name": "#%%\n"
    },
    "slideshow": {
     "slide_type": "fragment"
    }
   },
   "outputs": [
    {
     "name": "stdout",
     "output_type": "stream",
     "text": [
      "y is: 100\n"
     ]
    }
   ],
   "source": [
    "x = 100\n",
    "y = x\n",
    "x = 200\n",
    "print(f'y is: {y}')"
   ]
  },
  {
   "cell_type": "markdown",
   "metadata": {
    "pycharm": {
     "name": "#%% md\n"
    },
    "slideshow": {
     "slide_type": "subslide"
    }
   },
   "source": [
    "## Assignment in Python means:\n",
    " \n",
    "*The variable named on the left should now refer to the value on the right.*\n",
    "\n",
    "The command \n",
    "```python \n",
    "y = x\n",
    "``` \n",
    "\n",
    "*y should refer to the whatever value x is referring to.*"
   ]
  },
  {
   "cell_type": "markdown",
   "metadata": {
    "pycharm": {
     "name": "#%% md\n"
    },
    "slideshow": {
     "slide_type": "subslide"
    }
   },
   "source": [
    "## Understanding Python assignment\n",
    "Consider the following Python code:"
   ]
  },
  {
   "cell_type": "code",
   "execution_count": 3,
   "metadata": {
    "slideshow": {
     "slide_type": "fragment"
    }
   },
   "outputs": [],
   "source": [
    "my_numbers = [3, 2, 7]\n",
    "pretty_numbers = my_numbers\n",
    "del pretty_numbers[0]\n",
    "# What is my_numbers value now?"
   ]
  },
  {
   "cell_type": "code",
   "execution_count": 4,
   "metadata": {
    "pycharm": {
     "is_executing": false,
     "name": "#%%\n"
    },
    "slideshow": {
     "slide_type": "fragment"
    }
   },
   "outputs": [
    {
     "name": "stdout",
     "output_type": "stream",
     "text": [
      "my_numbers is: [2, 7]\n"
     ]
    }
   ],
   "source": [
    "print(f'my_numbers is: {my_numbers}')\n"
   ]
  },
  {
   "cell_type": "markdown",
   "metadata": {
    "slideshow": {
     "slide_type": "subslide"
    }
   },
   "source": [
    "## Understanding Python assignment\n",
    "Consider the following Python code:"
   ]
  },
  {
   "cell_type": "code",
   "execution_count": 5,
   "metadata": {
    "pycharm": {
     "is_executing": false,
     "name": "#%%\n"
    },
    "slideshow": {
     "slide_type": "fragment"
    }
   },
   "outputs": [],
   "source": [
    "my_numbers = [3, 2, 7]\n",
    "pretty_numbers = my_numbers[:]\n",
    "del pretty_numbers[0]\n",
    "# What is my_numbers value now?"
   ]
  },
  {
   "cell_type": "code",
   "execution_count": 6,
   "metadata": {
    "slideshow": {
     "slide_type": "fragment"
    }
   },
   "outputs": [
    {
     "name": "stdout",
     "output_type": "stream",
     "text": [
      "my_numbers is: [3, 2, 7]\n"
     ]
    }
   ],
   "source": [
    "print(f'my_numbers is: {my_numbers}')"
   ]
  },
  {
   "cell_type": "markdown",
   "metadata": {
    "pycharm": {
     "name": "#%% md\n"
    },
    "slideshow": {
     "slide_type": "subslide"
    }
   },
   "source": [
    "## Understanding Python assignment\n",
    "- The slicing operation created a copy.\n",
    "- The assignment operator makes pretty_numbers refer to the copy.    \n",
    "\n",
    "In other words:\n",
    "- In the first example: `my_numbers` and `pretty_numbers` refer to the same object.\n",
    "    - They have the same identity.\n",
    "- In the second example: `my_numbers` and `pretty_numbers` refer to different objects. \n",
    "    - They have different identities."
   ]
  },
  {
   "cell_type": "markdown",
   "metadata": {
    "pycharm": {
     "name": "#%% md  \n"
    },
    "slideshow": {
     "slide_type": "subslide"
    }
   },
   "source": [
    "## Checking identity\n",
    "\n",
    "- One can check the ID of a variable with `id()` function.\n",
    "- It is also possible to check whether two variables refer to the same object via `is` function"
   ]
  },
  {
   "cell_type": "code",
   "execution_count": 7,
   "metadata": {
    "pycharm": {
     "name": "#%%\n"
    },
    "slideshow": {
     "slide_type": "fragment"
    }
   },
   "outputs": [
    {
     "name": "stdout",
     "output_type": "stream",
     "text": [
      "my_numbers variable id is: 140420949022992\n",
      "pretty_numbers variable id is: 140420949023152\n"
     ]
    }
   ],
   "source": [
    "my_numbers = [3, 2, 7]\n",
    "pretty_numbers = my_numbers[:]\n",
    "print(f'my_numbers variable id is: {id(my_numbers)}')\n",
    "print(f'pretty_numbers variable id is: {id(pretty_numbers)}')"
   ]
  },
  {
   "cell_type": "code",
   "execution_count": 8,
   "metadata": {
    "slideshow": {
     "slide_type": "fragment"
    }
   },
   "outputs": [
    {
     "data": {
      "text/plain": [
       "True"
      ]
     },
     "execution_count": 8,
     "metadata": {},
     "output_type": "execute_result"
    }
   ],
   "source": [
    "my_numbers = [3, 2, 7]\n",
    "pretty_numbers = my_numbers\n",
    "my_numbers is pretty_numbers"
   ]
  },
  {
   "cell_type": "markdown",
   "metadata": {
    "slideshow": {
     "slide_type": "subslide"
    }
   },
   "source": [
    "## Exceptions\n",
    "* Usually, a new object is created each time we have a assign an immutable value to a certain variable (e.g. `x = 3`).\n",
    "* A new object, new identity right? Not always!"
   ]
  },
  {
   "cell_type": "code",
   "execution_count": 9,
   "metadata": {
    "slideshow": {
     "slide_type": "fragment"
    }
   },
   "outputs": [
    {
     "data": {
      "text/plain": [
       "True"
      ]
     },
     "execution_count": 9,
     "metadata": {},
     "output_type": "execute_result"
    }
   ],
   "source": [
    "a = 256\n",
    "b = 256\n",
    "a is b"
   ]
  },
  {
   "cell_type": "markdown",
   "metadata": {
    "slideshow": {
     "slide_type": "fragment"
    }
   },
   "source": [
    "* These exceptions are indeterministic and they arise as a result of memory optimization in Python implementation."
   ]
  },
  {
   "cell_type": "markdown",
   "metadata": {
    "slideshow": {
     "slide_type": "slide"
    }
   },
   "source": [
    "# Equality and Copies in Python\n",
    "* In Python, identity does not mean equality.\n",
    "* You can check equality beween two values with `==` operator.\n",
    "* For object to be equal to another, it has to have same type, same length and have all the corresponding elements equal (where equality is defined recursively)."
   ]
  },
  {
   "cell_type": "markdown",
   "metadata": {
    "slideshow": {
     "slide_type": "subslide"
    }
   },
   "source": [
    "# Deep and shallow copies\n",
    "* As you now know:\n",
    "    * Assignment statements do not copy objects.\n",
    "* A copy is sometimes needed.\n",
    "* In Python, there are two ways to create copies :\n",
    "    * Deep copy\n",
    "    * Shallow copy"
   ]
  },
  {
   "cell_type": "code",
   "execution_count": 10,
   "metadata": {
    "slideshow": {
     "slide_type": "fragment"
    }
   },
   "outputs": [],
   "source": [
    "universities = [['MIT', 'Princeton', 'Harvard'], \n",
    "                     ['ETH Zurich', 'Sorbonne'], \n",
    "                    ['Weizmann', 'Technion']]\n",
    "# Make a copy with slicing tool\n",
    "cool_places = universities[:]\n",
    "# Remove the Technion from the cool_places list.\n",
    "cool_places[2].remove('Technion')\n",
    "# What we expect to find in universities variable?"
   ]
  },
  {
   "cell_type": "code",
   "execution_count": 11,
   "metadata": {
    "slideshow": {
     "slide_type": "subslide"
    }
   },
   "outputs": [
    {
     "name": "stdout",
     "output_type": "stream",
     "text": [
      "['MIT', 'Princeton', 'Harvard']\n",
      "['ETH Zurich', 'Sorbonne']\n",
      "['Weizmann']\n"
     ]
    }
   ],
   "source": [
    "for sub_list in universities:\n",
    "    print(sub_list)"
   ]
  },
  {
   "cell_type": "markdown",
   "metadata": {
    "slideshow": {
     "slide_type": "fragment"
    }
   },
   "source": [
    "* We tried to modify the copy, but it affected the original. \n",
    "    * Why does this happen?!    "
   ]
  },
  {
   "cell_type": "markdown",
   "metadata": {
    "slideshow": {
     "slide_type": "fragment"
    }
   },
   "source": [
    "* What we created is actually a **shallow copy**. \n",
    "    * It only copies the references.\n",
    "    \n",
    "<center>\n",
    "<img src=\"images/copy_types.png\">\n",
    "</center>"
   ]
  },
  {
   "cell_type": "markdown",
   "metadata": {
    "slideshow": {
     "slide_type": "subslide"
    }
   },
   "source": [
    "## Creating a deep copy\n",
    "* Deep copies can be created by importing a deepcopy method:"
   ]
  },
  {
   "cell_type": "code",
   "execution_count": 12,
   "metadata": {
    "slideshow": {
     "slide_type": "fragment"
    }
   },
   "outputs": [
    {
     "name": "stdout",
     "output_type": "stream",
     "text": [
      "['MIT', 'Princeton', 'Harvard']\n",
      "['ETH Zurich', 'Sorbonne']\n",
      "['Weizmann', 'Technion']\n"
     ]
    }
   ],
   "source": [
    "from copy import deepcopy\n",
    "\n",
    "universities = [['MIT', 'Princeton', 'Harvard'], \n",
    "                     ['ETH Zurich', 'Sorbonne'], \n",
    "                    ['Weizmann', 'Technion']]\n",
    "\n",
    "# Make a copy with slicing tool\n",
    "cool_places = deepcopy(universities)\n",
    "\n",
    "# Remove the Technion from the cool_places list.\n",
    "cool_places[2].remove('Technion')\n",
    "\n",
    "# Print the universities\n",
    "for sub_list in universities:\n",
    "    print(sub_list)"
   ]
  },
  {
   "cell_type": "markdown",
   "metadata": {
    "slideshow": {
     "slide_type": "slide"
    }
   },
   "source": [
    "# Python Dictionaries\n",
    "* Dictionary in Python is an unordered collection of data values, used to store data values like a map.\n",
    "    * It is a rough equivalent to C’s map or Java’s HashMap\n",
    "* It makes use of pairs of keys and values.\n",
    "* A Dictionary in Python works similar to the Dictionary in a real world. \n",
    "* Dictionaries use hashing to store values, thus the complexity of lookup is O(1) as opposed to lookup costs in tuples and lists.\n",
    "* Keys of a Dictionary must be unique and of immutable data type."
   ]
  },
  {
   "cell_type": "markdown",
   "metadata": {
    "slideshow": {
     "slide_type": "subslide"
    }
   },
   "source": [
    "## Creating a Dictionary\n"
   ]
  },
  {
   "cell_type": "code",
   "execution_count": 13,
   "metadata": {
    "slideshow": {
     "slide_type": "fragment"
    }
   },
   "outputs": [
    {
     "name": "stdout",
     "output_type": "stream",
     "text": [
      "Empty Dictionary: \n",
      "{}\n"
     ]
    }
   ],
   "source": [
    "# Creating an empty Dictionary \n",
    "my_dict = {} \n",
    "print(\"Empty Dictionary: \") \n",
    "print(my_dict) "
   ]
  },
  {
   "cell_type": "code",
   "execution_count": 14,
   "metadata": {
    "slideshow": {
     "slide_type": "fragment"
    }
   },
   "outputs": [
    {
     "name": "stdout",
     "output_type": "stream",
     "text": [
      "What do we think about AI? It's Great!\n"
     ]
    }
   ],
   "source": [
    "# Update a dictionary \n",
    "my_dict['AI'] = \"It\\'s Great!\"\n",
    "print(f'What do we think about AI? {my_dict[\"AI\"]}')"
   ]
  },
  {
   "cell_type": "markdown",
   "metadata": {
    "slideshow": {
     "slide_type": "subslide"
    }
   },
   "source": [
    "## Fun with dictionaries"
   ]
  },
  {
   "cell_type": "code",
   "execution_count": 15,
   "metadata": {
    "slideshow": {
     "slide_type": "subslide"
    }
   },
   "outputs": [
    {
     "data": {
      "text/plain": [
       "True"
      ]
     },
     "execution_count": 15,
     "metadata": {},
     "output_type": "execute_result"
    }
   ],
   "source": [
    "phone_codes_dict = {\n",
    "    \"Tel Aviv\": \"03\",\n",
    "    \"Haifa\": \"04\",\n",
    "    \"Jerusalem\": \"02\"\n",
    "}\n",
    "\n",
    "# Do a membership test:\n",
    "\"Tel Aviv\" in phone_codes_dict"
   ]
  },
  {
   "cell_type": "code",
   "execution_count": 16,
   "metadata": {
    "slideshow": {
     "slide_type": "fragment"
    }
   },
   "outputs": [
    {
     "data": {
      "text/plain": [
       "False"
      ]
     },
     "execution_count": 16,
     "metadata": {},
     "output_type": "execute_result"
    }
   ],
   "source": [
    "\"03\" in phone_codes_dict"
   ]
  },
  {
   "cell_type": "code",
   "execution_count": 17,
   "metadata": {
    "slideshow": {
     "slide_type": "fragment"
    }
   },
   "outputs": [
    {
     "data": {
      "text/plain": [
       "3"
      ]
     },
     "execution_count": 17,
     "metadata": {},
     "output_type": "execute_result"
    }
   ],
   "source": [
    "# Check dictionary length\n",
    "len(phone_codes_dict)"
   ]
  },
  {
   "cell_type": "code",
   "execution_count": 18,
   "metadata": {
    "slideshow": {
     "slide_type": "subslide"
    }
   },
   "outputs": [
    {
     "name": "stdout",
     "output_type": "stream",
     "text": [
      "{'Eilat': '08', 'Natanya': '09'}\n"
     ]
    }
   ],
   "source": [
    "# Creating a dictionary from sequence of pairs\n",
    "other_phone_codes = [('Eilat', '08'), ('Natanya', '09')]\n",
    "other_phone_codes = dict(other_phone_codes)\n",
    "print(other_phone_codes)"
   ]
  },
  {
   "cell_type": "code",
   "execution_count": 19,
   "metadata": {
    "slideshow": {
     "slide_type": "fragment"
    }
   },
   "outputs": [
    {
     "name": "stdout",
     "output_type": "stream",
     "text": [
      "{'Tel Aviv': '03', 'Haifa': '04', 'Jerusalem': '02', 'Eilat': '08', 'Natanya': '09'}\n"
     ]
    }
   ],
   "source": [
    "# Merge two dictionaries\n",
    "phone_codes_dict.update(other_phone_codes)\n",
    "print(phone_codes_dict)"
   ]
  },
  {
   "cell_type": "code",
   "execution_count": 20,
   "metadata": {
    "slideshow": {
     "slide_type": "subslide"
    }
   },
   "outputs": [
    {
     "ename": "KeyError",
     "evalue": "'Afula'",
     "output_type": "error",
     "traceback": [
      "\u001b[0;31m---------------------------------------------------------------------------\u001b[0m",
      "\u001b[0;31mKeyError\u001b[0m                                  Traceback (most recent call last)",
      "\u001b[0;32m<ipython-input-20-654b3de1c7d9>\u001b[0m in \u001b[0;36m<module>\u001b[0;34m\u001b[0m\n\u001b[1;32m      1\u001b[0m \u001b[0;31m# Accessing by key that doesn't exist\u001b[0m\u001b[0;34m\u001b[0m\u001b[0;34m\u001b[0m\u001b[0;34m\u001b[0m\u001b[0m\n\u001b[0;32m----> 2\u001b[0;31m \u001b[0mx\u001b[0m \u001b[0;34m=\u001b[0m \u001b[0mphone_codes_dict\u001b[0m\u001b[0;34m[\u001b[0m\u001b[0;34m'Afula'\u001b[0m\u001b[0;34m]\u001b[0m\u001b[0;34m\u001b[0m\u001b[0;34m\u001b[0m\u001b[0m\n\u001b[0m",
      "\u001b[0;31mKeyError\u001b[0m: 'Afula'"
     ]
    }
   ],
   "source": [
    "# Accessing by key that doesn't exist\n",
    "x = phone_codes_dict['Afula']"
   ]
  },
  {
   "cell_type": "code",
   "execution_count": 21,
   "metadata": {
    "slideshow": {
     "slide_type": "fragment"
    }
   },
   "outputs": [
    {
     "data": {
      "text/plain": [
       "True"
      ]
     },
     "execution_count": 21,
     "metadata": {},
     "output_type": "execute_result"
    }
   ],
   "source": [
    "# Accessing by key without error raise\n",
    "x = phone_codes_dict.get('Afula')\n",
    "x is None"
   ]
  },
  {
   "cell_type": "code",
   "execution_count": 22,
   "metadata": {
    "slideshow": {
     "slide_type": "subslide"
    }
   },
   "outputs": [
    {
     "name": "stdout",
     "output_type": "stream",
     "text": [
      "{'Tel Aviv': '03', 'Haifa': '04', 'Jerusalem': '02', 'Eilat': '08', 'Natanya': '09', 'Mobile': '05'}\n"
     ]
    }
   ],
   "source": [
    "# Adding key/value pairs\n",
    "phone_codes_dict['Mobile'] = '05'\n",
    "print(phone_codes_dict)"
   ]
  },
  {
   "cell_type": "code",
   "execution_count": 23,
   "metadata": {
    "slideshow": {
     "slide_type": "fragment"
    }
   },
   "outputs": [
    {
     "data": {
      "text/plain": [
       "False"
      ]
     },
     "execution_count": 23,
     "metadata": {},
     "output_type": "execute_result"
    }
   ],
   "source": [
    "# Deleting items from dictionaries\n",
    "del phone_codes_dict['Tel Aviv']\n",
    "'Tel Aviv' in phone_codes_dict"
   ]
  },
  {
   "cell_type": "code",
   "execution_count": 24,
   "metadata": {
    "slideshow": {
     "slide_type": "fragment"
    }
   },
   "outputs": [
    {
     "name": "stdout",
     "output_type": "stream",
     "text": [
      "Haifa code is 04\n"
     ]
    }
   ],
   "source": [
    "# Pop from a dictionary\n",
    "haifa_code = phone_codes_dict.pop('Haifa')\n",
    "print(f'Haifa code is {haifa_code}')"
   ]
  },
  {
   "cell_type": "code",
   "execution_count": 25,
   "metadata": {
    "slideshow": {
     "slide_type": "subslide"
    }
   },
   "outputs": [
    {
     "data": {
      "text/plain": [
       "False"
      ]
     },
     "execution_count": 25,
     "metadata": {},
     "output_type": "execute_result"
    }
   ],
   "source": [
    "'Haifa' in phone_codes_dict"
   ]
  },
  {
   "cell_type": "code",
   "execution_count": 26,
   "metadata": {
    "slideshow": {
     "slide_type": "fragment"
    }
   },
   "outputs": [
    {
     "data": {
      "text/plain": [
       "dict_keys(['Jerusalem', 'Eilat', 'Natanya', 'Mobile'])"
      ]
     },
     "execution_count": 26,
     "metadata": {},
     "output_type": "execute_result"
    }
   ],
   "source": [
    "# Get the keys from a dictionary\n",
    "phone_codes_dict.keys()"
   ]
  },
  {
   "cell_type": "code",
   "execution_count": 27,
   "metadata": {
    "slideshow": {
     "slide_type": "fragment"
    }
   },
   "outputs": [
    {
     "data": {
      "text/plain": [
       "dict_values(['02', '08', '09', '05'])"
      ]
     },
     "execution_count": 27,
     "metadata": {},
     "output_type": "execute_result"
    }
   ],
   "source": [
    "# Get the values from a dictionary\n",
    "phone_codes_dict.values()"
   ]
  },
  {
   "cell_type": "code",
   "execution_count": 28,
   "metadata": {
    "slideshow": {
     "slide_type": "subslide"
    }
   },
   "outputs": [
    {
     "data": {
      "text/plain": [
       "dict_items([('Jerusalem', '02'), ('Eilat', '08'), ('Natanya', '09'), ('Mobile', '05')])"
      ]
     },
     "execution_count": 28,
     "metadata": {},
     "output_type": "execute_result"
    }
   ],
   "source": [
    "# Get the items from a dictionary\n",
    "phone_codes_dict.items()"
   ]
  },
  {
   "cell_type": "code",
   "execution_count": 29,
   "metadata": {
    "slideshow": {
     "slide_type": "fragment"
    }
   },
   "outputs": [
    {
     "name": "stdout",
     "output_type": "stream",
     "text": [
      "The code of Jerusalem is 02\n",
      "The code of Eilat is 08\n",
      "The code of Natanya is 09\n",
      "The code of Mobile is 05\n"
     ]
    }
   ],
   "source": [
    "# Loop through the items of a dictionary\n",
    "for city, code in phone_codes_dict.items():\n",
    "    print(f'The code of {city} is {code}')"
   ]
  },
  {
   "cell_type": "code",
   "execution_count": 30,
   "metadata": {
    "slideshow": {
     "slide_type": "fragment"
    }
   },
   "outputs": [
    {
     "name": "stdout",
     "output_type": "stream",
     "text": [
      "{}\n"
     ]
    }
   ],
   "source": [
    "# Clearing a dictionary\n",
    "phone_codes_dict.clear()\n",
    "print(phone_codes_dict)"
   ]
  }
 ],
 "metadata": {
  "celltoolbar": "Slideshow",
  "kernelspec": {
   "display_name": "Python 3",
   "language": "python",
   "name": "python3"
  },
  "language_info": {
   "codemirror_mode": {
    "name": "ipython",
    "version": 3
   },
   "file_extension": ".py",
   "mimetype": "text/x-python",
   "name": "python",
   "nbconvert_exporter": "python",
   "pygments_lexer": "ipython3",
   "version": "3.7.4"
  },
  "pycharm": {
   "stem_cell": {
    "cell_type": "raw",
    "metadata": {
     "collapsed": false
    },
    "source": []
   }
  },
  "rise": {
   "theme": "white"
  }
 },
 "nbformat": 4,
 "nbformat_minor": 1
}
