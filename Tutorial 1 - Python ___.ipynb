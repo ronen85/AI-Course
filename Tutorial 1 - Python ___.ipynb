{
 "cells": [
  {
   "cell_type": "markdown",
   "metadata": {},
   "source": [
    "Technion IE-096210 \n",
    "## Foundations of Artificial Intelligence <a class=\"tocSkip\">\n",
    "# Tutorial 1: Python Refresher <a class=\"tocSkip\">\n",
    "***\n",
    "Ronen Nir & Alex Tuisov"
   ]
  },
  {
   "cell_type": "markdown",
   "metadata": {},
   "source": [
    "# Introduction\n",
    "* Course:\n",
    "    * Online course (as it seems)\n",
    "    * Webcourse in moodle\n",
    "        * Updates, zoom, staff, materials, assignments        \n",
    "    * Grade\n",
    "        * 30% Home Exam\n",
    "        * 45% HW (15% $\\times$ 3)\n",
    "        * 25% Midterm Exam \n",
    "* You\n",
    "    * Poll\n",
    "* Myself:\n",
    "    * Ronen Nir\n",
    "    * PhD candidate, advised by Prof. Erez Karpas, at the Technion Autonomous Systems Program\n",
    "        * Multiagents in the wild"
   ]
  },
  {
   "cell_type": "markdown",
   "metadata": {},
   "source": [
    "# Python in a Nutshell\n",
    "* Interpreted - no compilation is necessary\n",
    "* Dynamic Typing - variables can change their type \n",
    "* Object Oriented - objects, classes, inheritance etc"
   ]
  },
  {
   "cell_type": "markdown",
   "metadata": {
    "slideshow": {
     "slide_type": "slide"
    }
   },
   "source": [
    "## Basics"
   ]
  },
  {
   "cell_type": "code",
   "execution_count": 1,
   "metadata": {
    "colab": {},
    "colab_type": "code",
    "id": "kdEGPatJi0h_"
   },
   "outputs": [
    {
     "data": {
      "text/plain": [
       "-9"
      ]
     },
     "execution_count": 1,
     "metadata": {},
     "output_type": "execute_result"
    }
   ],
   "source": [
    "# Basic arithmetics\n",
    "(1 + 2) - (3 * 4)"
   ]
  },
  {
   "cell_type": "code",
   "execution_count": 2,
   "metadata": {
    "colab": {},
    "colab_type": "code",
    "id": "TxWezPsii0iB"
   },
   "outputs": [
    {
     "name": "stdout",
     "output_type": "stream",
     "text": [
      "2.5\n",
      "2\n",
      "1\n"
     ]
    }
   ],
   "source": [
    "# Devision\n",
    "print(5/2) # normal\n",
    "print(5//2) # floor devision\n",
    "print(5 % 2) # modulu"
   ]
  },
  {
   "cell_type": "code",
   "execution_count": 3,
   "metadata": {
    "colab": {},
    "colab_type": "code",
    "id": "d1PzKcC9i0iC"
   },
   "outputs": [
    {
     "name": "stdout",
     "output_type": "stream",
     "text": [
      "False\n",
      "True\n",
      "False\n"
     ]
    }
   ],
   "source": [
    "# Comparisons and Logical operators\n",
    "print(2>1 and 3>4)\n",
    "print(2>1 or 3>4)\n",
    "print(not 2>1)"
   ]
  },
  {
   "cell_type": "code",
   "execution_count": 4,
   "metadata": {
    "colab": {},
    "colab_type": "code",
    "id": "eopoTqsli0iE"
   },
   "outputs": [
    {
     "name": "stdout",
     "output_type": "stream",
     "text": [
      "8\n"
     ]
    }
   ],
   "source": [
    "# Power\n",
    "x = 2**3\n",
    "print(x)"
   ]
  },
  {
   "cell_type": "code",
   "execution_count": 5,
   "metadata": {
    "colab": {},
    "colab_type": "code",
    "id": "dPe3H81Ei0iF"
   },
   "outputs": [
    {
     "name": "stdout",
     "output_type": "stream",
     "text": [
      "11\n"
     ]
    }
   ],
   "source": [
    "# Assignment\n",
    "x += 3 # Works with **=,^=,etc.  \n",
    "print(x)"
   ]
  },
  {
   "cell_type": "code",
   "execution_count": 6,
   "metadata": {
    "pycharm": {
     "name": "#%%\n"
    },
    "slideshow": {
     "slide_type": "fragment"
    }
   },
   "outputs": [
    {
     "data": {
      "text/plain": [
       "'\\n    This is a string comment.\\n    Usually used for documenting functions and classes.\\n'"
      ]
     },
     "execution_count": 6,
     "metadata": {},
     "output_type": "execute_result"
    }
   ],
   "source": [
    "\"\"\"\n",
    "    This is a string comment.\n",
    "    Usually used for documenting functions and classes.\n",
    "\"\"\"\n",
    "\n",
    "# this is a line comment"
   ]
  },
  {
   "cell_type": "markdown",
   "metadata": {},
   "source": [
    "## Primitive Types"
   ]
  },
  {
   "cell_type": "code",
   "execution_count": 7,
   "metadata": {
    "pycharm": {
     "name": "#%%\n"
    },
    "slideshow": {
     "slide_type": "fragment"
    }
   },
   "outputs": [
    {
     "data": {
      "text/plain": [
       "True"
      ]
     },
     "execution_count": 7,
     "metadata": {},
     "output_type": "execute_result"
    }
   ],
   "source": [
    "a = 5 # integer\n",
    "b = 'Ronen' # string\n",
    "c = 5.0 # float\n",
    "bool(a) # boolean  "
   ]
  },
  {
   "cell_type": "code",
   "execution_count": 8,
   "metadata": {
    "pycharm": {
     "name": "#%%\n"
    },
    "slideshow": {
     "slide_type": "fragment"
    }
   },
   "outputs": [],
   "source": [
    "def triple(x: int):\n",
    "    y = 3*x\n",
    "    return y"
   ]
  },
  {
   "cell_type": "markdown",
   "metadata": {
    "slideshow": {
     "slide_type": "fragment"
    }
   },
   "source": [
    "What objects we have now?\n"
   ]
  },
  {
   "cell_type": "code",
   "execution_count": 9,
   "metadata": {},
   "outputs": [
    {
     "data": {
      "text/plain": [
       "function"
      ]
     },
     "execution_count": 9,
     "metadata": {},
     "output_type": "execute_result"
    }
   ],
   "source": [
    "type(triple)"
   ]
  },
  {
   "cell_type": "code",
   "execution_count": 10,
   "metadata": {},
   "outputs": [
    {
     "data": {
      "text/plain": [
       "'wowwowwow'"
      ]
     },
     "execution_count": 10,
     "metadata": {},
     "output_type": "execute_result"
    }
   ],
   "source": [
    "# Functions are polymorphic example\n",
    "b= 'wow'\n",
    "triple(b)"
   ]
  },
  {
   "cell_type": "markdown",
   "metadata": {
    "pycharm": {
     "name": "#%% md\n"
    }
   },
   "source": [
    "## Python Conditionals"
   ]
  },
  {
   "cell_type": "code",
   "execution_count": 11,
   "metadata": {
    "pycharm": {
     "is_executing": false,
     "name": "#%% \n"
    }
   },
   "outputs": [
    {
     "name": "stdout",
     "output_type": "stream",
     "text": [
      "c is true\n",
      "d is false\n"
     ]
    }
   ],
   "source": [
    "a = True\n",
    "b = False\n",
    "c = a or b\n",
    "d = a and b\n",
    "\n",
    "if c:\n",
    "    print('c is true')\n",
    "else:\n",
    "    print('c is false')\n",
    "    \n",
    "if d:\n",
    "    print('d is true')\n",
    "else:\n",
    "    print('d is false')"
   ]
  },
  {
   "cell_type": "markdown",
   "metadata": {
    "pycharm": {
     "name": "#%% md\n"
    },
    "slideshow": {
     "slide_type": "slide"
    }
   },
   "source": [
    "## Objects in Python\n",
    "- Python treats everything as an object.\n",
    "- Objects have: \n",
    "    - class\n",
    "    - fields and properties (the data)\n",
    "    - methods"
   ]
  },
  {
   "cell_type": "code",
   "execution_count": 12,
   "metadata": {
    "pycharm": {
     "is_executing": false,
     "name": "#%%\n"
    },
    "slideshow": {
     "slide_type": "subslide"
    }
   },
   "outputs": [
    {
     "name": "stdout",
     "output_type": "stream",
     "text": [
      "['Hell', ' W', 'rld']\n"
     ]
    }
   ],
   "source": [
    "x = 'Hello World' # x is an object of type 'str' \n",
    "print(x.split('o')) # x has is a method of the class "
   ]
  },
  {
   "cell_type": "markdown",
   "metadata": {
    "pycharm": {
     "name": "#%% md\n"
    }
   },
   "source": [
    "## Python Sequences\n",
    "Sequences are array-like data structures."
   ]
  },
  {
   "cell_type": "code",
   "execution_count": 13,
   "metadata": {
    "pycharm": {
     "is_executing": false,
     "name": "#%%\n"
    }
   },
   "outputs": [],
   "source": [
    "list_var = [1,2,3, 'Ronen']\n",
    "tuple_var = (1,2,3, 'Ronen')\n",
    "string_var = 'Intro_to_Python'\n",
    "range_var = range(5)"
   ]
  },
  {
   "cell_type": "code",
   "execution_count": 14,
   "metadata": {
    "pycharm": {
     "name": "#%% md\n"
    }
   },
   "outputs": [
    {
     "data": {
      "text/plain": [
       "'something else'"
      ]
     },
     "execution_count": 14,
     "metadata": {},
     "output_type": "execute_result"
    }
   ],
   "source": [
    "# Concatenation\n",
    "x, y = 'something', 'else'\n",
    "x + ' ' + y"
   ]
  },
  {
   "cell_type": "code",
   "execution_count": 15,
   "metadata": {
    "pycharm": {
     "is_executing": false,
     "name": "#%%\n"
    }
   },
   "outputs": [
    {
     "data": {
      "text/plain": [
       "'somethingsomethingsomething'"
      ]
     },
     "execution_count": 15,
     "metadata": {},
     "output_type": "execute_result"
    }
   ],
   "source": [
    "3 * x"
   ]
  },
  {
   "cell_type": "code",
   "execution_count": 16,
   "metadata": {
    "pycharm": {
     "is_executing": false,
     "name": "#%%\n"
    }
   },
   "outputs": [
    {
     "data": {
      "text/plain": [
       "'e'"
      ]
     },
     "execution_count": 16,
     "metadata": {},
     "output_type": "execute_result"
    }
   ],
   "source": [
    "x[3] # Accessing by index"
   ]
  },
  {
   "cell_type": "code",
   "execution_count": 17,
   "metadata": {
    "pycharm": {
     "is_executing": false,
     "name": "#%%\n"
    }
   },
   "outputs": [
    {
     "data": {
      "text/plain": [
       "'som'"
      ]
     },
     "execution_count": 17,
     "metadata": {},
     "output_type": "execute_result"
    }
   ],
   "source": [
    "x[0:3]  # slicing"
   ]
  },
  {
   "cell_type": "code",
   "execution_count": 18,
   "metadata": {
    "pycharm": {
     "is_executing": false,
     "name": "#%%\n"
    }
   },
   "outputs": [
    {
     "name": "stdout",
     "output_type": "stream",
     "text": [
      "['someth', 'ng']\n"
     ]
    }
   ],
   "source": [
    "print(x.split('i'))  # splitting"
   ]
  },
  {
   "cell_type": "code",
   "execution_count": 19,
   "metadata": {
    "pycharm": {
     "is_executing": false,
     "name": "#%%\n"
    }
   },
   "outputs": [
    {
     "data": {
      "text/plain": [
       "str"
      ]
     },
     "execution_count": 19,
     "metadata": {},
     "output_type": "execute_result"
    }
   ],
   "source": [
    "x = 'Artificial Intelligence'\n",
    "type(x[0])"
   ]
  },
  {
   "cell_type": "code",
   "execution_count": 20,
   "metadata": {
    "pycharm": {
     "is_executing": false,
     "name": "#%%\n"
    }
   },
   "outputs": [
    {
     "name": "stdout",
     "output_type": "stream",
     "text": [
      "A\n"
     ]
    }
   ],
   "source": [
    "print(x[0][0][0][0])"
   ]
  },
  {
   "cell_type": "markdown",
   "metadata": {
    "slideshow": {
     "slide_type": "slide"
    }
   },
   "source": [
    "# Python Dictionaries"
   ]
  },
  {
   "cell_type": "code",
   "execution_count": 21,
   "metadata": {
    "slideshow": {
     "slide_type": "fragment"
    }
   },
   "outputs": [
    {
     "data": {
      "text/plain": [
       "'04'"
      ]
     },
     "execution_count": 21,
     "metadata": {},
     "output_type": "execute_result"
    }
   ],
   "source": [
    "phone_codes_dict = {\"Tel Aviv\": \"03\", \"Haifa\": \"04\", \"Jerusalem\": \"02\"}\n",
    "phone_codes_dict[\"Haifa\"]"
   ]
  },
  {
   "cell_type": "code",
   "execution_count": 22,
   "metadata": {
    "slideshow": {
     "slide_type": "fragment"
    }
   },
   "outputs": [
    {
     "data": {
      "text/plain": [
       "True"
      ]
     },
     "execution_count": 22,
     "metadata": {},
     "output_type": "execute_result"
    }
   ],
   "source": [
    "\"Tel Aviv\" in phone_codes_dict # Do a membership test:"
   ]
  },
  {
   "cell_type": "code",
   "execution_count": 23,
   "metadata": {
    "slideshow": {
     "slide_type": "fragment"
    }
   },
   "outputs": [
    {
     "data": {
      "text/plain": [
       "True"
      ]
     },
     "execution_count": 23,
     "metadata": {},
     "output_type": "execute_result"
    }
   ],
   "source": [
    "\"Jerusalem\" in phone_codes_dict.keys()"
   ]
  },
  {
   "cell_type": "code",
   "execution_count": 24,
   "metadata": {
    "slideshow": {
     "slide_type": "fragment"
    }
   },
   "outputs": [],
   "source": [
    "# Adding key/value pairs\n",
    "phone_codes_dict['Mobile'] = '05'"
   ]
  },
  {
   "cell_type": "code",
   "execution_count": 25,
   "metadata": {
    "slideshow": {
     "slide_type": "fragment"
    }
   },
   "outputs": [
    {
     "data": {
      "text/plain": [
       "False"
      ]
     },
     "execution_count": 25,
     "metadata": {},
     "output_type": "execute_result"
    }
   ],
   "source": [
    "# Deleting items from dictionaries\n",
    "del phone_codes_dict['Tel Aviv']\n",
    "'Tel Aviv' in phone_codes_dict"
   ]
  },
  {
   "cell_type": "code",
   "execution_count": 26,
   "metadata": {
    "slideshow": {
     "slide_type": "fragment"
    }
   },
   "outputs": [],
   "source": [
    "other_phone_codes = [('Eilat', '08'), ('Natanya', '09')] # Creating a dictionary from sequence of pairs\n",
    "other_phone_codes = dict(other_phone_codes)"
   ]
  },
  {
   "cell_type": "code",
   "execution_count": 27,
   "metadata": {
    "slideshow": {
     "slide_type": "fragment"
    }
   },
   "outputs": [
    {
     "name": "stdout",
     "output_type": "stream",
     "text": [
      "{'Haifa': '04', 'Jerusalem': '02', 'Mobile': '05', 'Eilat': '08', 'Natanya': '09'}\n"
     ]
    }
   ],
   "source": [
    "# Merge two dictionaries\n",
    "phone_codes_dict.update(other_phone_codes)\n",
    "print(phone_codes_dict)"
   ]
  },
  {
   "cell_type": "code",
   "execution_count": 28,
   "metadata": {
    "slideshow": {
     "slide_type": "fragment"
    }
   },
   "outputs": [
    {
     "ename": "KeyError",
     "evalue": "'Afula'",
     "output_type": "error",
     "traceback": [
      "\u001b[0;31m---------------------------------------------------------------------------\u001b[0m",
      "\u001b[0;31mKeyError\u001b[0m                                  Traceback (most recent call last)",
      "\u001b[0;32m<ipython-input-28-654b3de1c7d9>\u001b[0m in \u001b[0;36m<module>\u001b[0;34m\u001b[0m\n\u001b[1;32m      1\u001b[0m \u001b[0;31m# Accessing by key that doesn't exist\u001b[0m\u001b[0;34m\u001b[0m\u001b[0;34m\u001b[0m\u001b[0;34m\u001b[0m\u001b[0m\n\u001b[0;32m----> 2\u001b[0;31m \u001b[0mx\u001b[0m \u001b[0;34m=\u001b[0m \u001b[0mphone_codes_dict\u001b[0m\u001b[0;34m[\u001b[0m\u001b[0;34m'Afula'\u001b[0m\u001b[0;34m]\u001b[0m\u001b[0;34m\u001b[0m\u001b[0;34m\u001b[0m\u001b[0m\n\u001b[0m",
      "\u001b[0;31mKeyError\u001b[0m: 'Afula'"
     ]
    }
   ],
   "source": [
    "# Accessing by key that doesn't exist\n",
    "x = phone_codes_dict['Afula']"
   ]
  },
  {
   "cell_type": "markdown",
   "metadata": {},
   "source": [
    "## Python Loops"
   ]
  },
  {
   "cell_type": "code",
   "execution_count": 29,
   "metadata": {},
   "outputs": [
    {
     "name": "stdout",
     "output_type": "stream",
     "text": [
      "n\n",
      "o\n",
      "h\n",
      "t\n",
      "y\n",
      "P\n"
     ]
    }
   ],
   "source": [
    "x = list('Python')\n",
    "while x:\n",
    "    print(x.pop())"
   ]
  },
  {
   "cell_type": "code",
   "execution_count": 30,
   "metadata": {},
   "outputs": [
    {
     "name": "stdout",
     "output_type": "stream",
     "text": [
      "P\n",
      "y\n"
     ]
    }
   ],
   "source": [
    "x = list('Python')\n",
    "for char in x:\n",
    "    print(char)\n",
    "    if char=='y':\n",
    "        break"
   ]
  },
  {
   "cell_type": "markdown",
   "metadata": {},
   "source": [
    "## Python Functions"
   ]
  },
  {
   "cell_type": "code",
   "execution_count": 31,
   "metadata": {},
   "outputs": [],
   "source": [
    "def factorial(n):\n",
    "    result = 1\n",
    "    i = 2\n",
    "    while i <= n:\n",
    "        result = result * i\n",
    "        i += 1\n",
    "    return result"
   ]
  },
  {
   "cell_type": "code",
   "execution_count": 32,
   "metadata": {},
   "outputs": [
    {
     "data": {
      "text/plain": [
       "120"
      ]
     },
     "execution_count": 32,
     "metadata": {},
     "output_type": "execute_result"
    }
   ],
   "source": [
    "factorial(5)"
   ]
  },
  {
   "cell_type": "markdown",
   "metadata": {
    "pycharm": {
     "name": "#%% md\n"
    },
    "slideshow": {
     "slide_type": "slide"
    }
   },
   "source": [
    "# Understanding Python assignment\n",
    "When we use `=` the user might think that he creates a new and fresh object; well, he doesn't."
   ]
  },
  {
   "cell_type": "code",
   "execution_count": 33,
   "metadata": {
    "pycharm": {
     "is_executing": false,
     "name": "#%%\n"
    },
    "slideshow": {
     "slide_type": "fragment"
    }
   },
   "outputs": [],
   "source": [
    "x = 100\n",
    "y = x\n",
    "x = 200"
   ]
  },
  {
   "cell_type": "code",
   "execution_count": 34,
   "metadata": {
    "pycharm": {
     "is_executing": false,
     "name": "#%%\n"
    },
    "slideshow": {
     "slide_type": "fragment"
    }
   },
   "outputs": [
    {
     "name": "stdout",
     "output_type": "stream",
     "text": [
      "y is: 100\n"
     ]
    }
   ],
   "source": [
    "print(f'y is: {y}')"
   ]
  },
  {
   "cell_type": "code",
   "execution_count": 35,
   "metadata": {
    "pycharm": {
     "is_executing": false,
     "name": "#%%\n"
    },
    "slideshow": {
     "slide_type": "fragment"
    }
   },
   "outputs": [],
   "source": [
    "my_numbers = [3, 2, 7]\n",
    "pretty_numbers = my_numbers\n",
    "# pretty_numbers = my_numbers[:]  # the slicing operation created a copy\n",
    "del pretty_numbers[0]"
   ]
  },
  {
   "cell_type": "code",
   "execution_count": 36,
   "metadata": {
    "pycharm": {
     "is_executing": false,
     "name": "#%%\n"
    },
    "slideshow": {
     "slide_type": "fragment"
    }
   },
   "outputs": [
    {
     "name": "stdout",
     "output_type": "stream",
     "text": [
      "my_numbers is: [2, 7]\n",
      "pretty_numbers is: [2, 7]\n"
     ]
    }
   ],
   "source": [
    "print(f'my_numbers is: {my_numbers}')\n",
    "print(f'pretty_numbers is: {pretty_numbers}')"
   ]
  },
  {
   "cell_type": "markdown",
   "metadata": {
    "pycharm": {
     "name": "#%% md  \n"
    },
    "slideshow": {
     "slide_type": "subslide"
    }
   },
   "source": [
    "## Checking identity\n",
    "\n",
    "- One can check the ID of a variable with `id()` function.\n",
    "- It is also possible to check whether two variables refer to the same object via `is` function"
   ]
  },
  {
   "cell_type": "code",
   "execution_count": 37,
   "metadata": {
    "pycharm": {
     "name": "#%%\n"
    },
    "slideshow": {
     "slide_type": "fragment"
    }
   },
   "outputs": [],
   "source": [
    "my_numbers = tuple([3, 2, 7])"
   ]
  },
  {
   "cell_type": "code",
   "execution_count": 38,
   "metadata": {
    "pycharm": {
     "name": "#%%\n"
    },
    "slideshow": {
     "slide_type": "fragment"
    }
   },
   "outputs": [
    {
     "data": {
      "text/plain": [
       "True"
      ]
     },
     "execution_count": 38,
     "metadata": {},
     "output_type": "execute_result"
    }
   ],
   "source": [
    "pretty_numbers = my_numbers[:]\n",
    "my_numbers is pretty_numbers"
   ]
  },
  {
   "cell_type": "markdown",
   "metadata": {
    "slideshow": {
     "slide_type": "slide"
    }
   },
   "source": [
    "## Equality and Copies in Python\n",
    "* In Python, identity does not mean equality.\n",
    "* You can check equality beween two values with `==` operator.\n",
    "* For object to be equal to another, it has to have same type, same length and have all the corresponding elements equal (where equality is defined recursively)."
   ]
  },
  {
   "cell_type": "markdown",
   "metadata": {
    "slideshow": {
     "slide_type": "subslide"
    }
   },
   "source": [
    "## Deep and shallow copies\n",
    "* Assignment statements do not copy objects\n",
    "* A copy is sometimes needed\n",
    "* In Python, there are two ways to create copies\n",
    "    * Deep copy\n",
    "    * Shallow copy"
   ]
  },
  {
   "cell_type": "code",
   "execution_count": 39,
   "metadata": {
    "slideshow": {
     "slide_type": "fragment"
    }
   },
   "outputs": [
    {
     "name": "stdout",
     "output_type": "stream",
     "text": [
      "[['MIT', 'Princeton', 'Harvard'], ['ETH Zurich', 'Sorbonne'], ['Weizmann']]\n"
     ]
    }
   ],
   "source": [
    "universities = [['MIT', 'Princeton', 'Harvard'], \n",
    "                     ['ETH Zurich', 'Sorbonne'], \n",
    "                    ['Weizmann', 'Technion']]\n",
    "cool_places = universities[:]  # shallow copy\n",
    "cool_places[2].remove('Technion')\n",
    "\n",
    "print(universities)  # What we expect to find in universities variable?"
   ]
  },
  {
   "cell_type": "code",
   "execution_count": 40,
   "metadata": {
    "slideshow": {
     "slide_type": "fragment"
    }
   },
   "outputs": [
    {
     "name": "stdout",
     "output_type": "stream",
     "text": [
      "[['MIT', 'Princeton', 'Harvard'], ['ETH Zurich', 'Sorbonne'], ['Weizmann', 'Technion']]\n"
     ]
    }
   ],
   "source": [
    "from copy import deepcopy\n",
    "\n",
    "universities = [['MIT', 'Princeton', 'Harvard'], \n",
    "                     ['ETH Zurich', 'Sorbonne'], \n",
    "                    ['Weizmann', 'Technion']]\n",
    "cool_places = deepcopy(universities)  # deep copy\n",
    "cool_places[2].remove('Technion')\n",
    "\n",
    "print(universities)  # What we expect to find in universities variable?"
   ]
  },
  {
   "cell_type": "markdown",
   "metadata": {
    "slideshow": {
     "slide_type": "slide"
    }
   },
   "source": [
    "# Python Classes and Objects\n",
    "- Everything in Python is an object.\n",
    "- Every object has a type.\n",
    "- It is easy to create new types (classes).\n",
    "- To create a class, use the keyword class:"
   ]
  },
  {
   "cell_type": "code",
   "execution_count": 41,
   "metadata": {
    "slideshow": {
     "slide_type": "fragment"
    }
   },
   "outputs": [
    {
     "name": "stdout",
     "output_type": "stream",
     "text": [
      "The type of x is: <class '__main__.Horse'>\n"
     ]
    }
   ],
   "source": [
    "class Horse:\n",
    "    def __init__(self, name, amount_of_legs=4):\n",
    "        self.name = name\n",
    "        self.legs = amount_of_legs\n",
    "\n",
    "    def run(self):\n",
    "        if self.legs == 4:\n",
    "            print('Im running!')\n",
    "        else:\n",
    "            print('Poor horse cannot run!')\n",
    "\n",
    "x = Horse(\"Hoysa\", 3)\n",
    "print(f'The type of x is: {type(x)}')"
   ]
  },
  {
   "cell_type": "markdown",
   "metadata": {
    "slideshow": {
     "slide_type": "subslide"
    }
   },
   "source": [
    "## \\__init__ Constructor\n",
    "```python\n",
    "def __init__(self, name, amount_of_legs=4):\n",
    "        self.name = name\n",
    "        self.legs = amount_of_legs\n",
    "```\n",
    "- `__init__(self, arg1, arg2 ...)` is the constructor function. \n",
    "It initializes the attributes of the function.\n",
    "- `self` is an object reference to the object itself (\"this\" in C).\n",
    "- `name` is a value provided by the user when a new `Horse` object is initialized.\n",
    "- `amount_of_legs=4` is a value an optional value to be provided by the user. If it is not provided, 4 shall be the value by default."
   ]
  },
  {
   "cell_type": "markdown",
   "metadata": {
    "slideshow": {
     "slide_type": "subslide"
    }
   },
   "source": [
    "Inheritance\n",
    "Inheritance allows us to define a class that inherits all the methods and properties from another class."
   ]
  },
  {
   "cell_type": "code",
   "execution_count": 42,
   "metadata": {
    "slideshow": {
     "slide_type": "fragment"
    }
   },
   "outputs": [],
   "source": [
    "class Zebra(Horse):\n",
    "    def run(self):\n",
    "        print(\"Zebra runs!\")\n",
    "        print(self.name)\n",
    "\n",
    "x  = Zebra(\"Horsey\", 7)"
   ]
  },
  {
   "cell_type": "code",
   "execution_count": 43,
   "metadata": {
    "slideshow": {
     "slide_type": "fragment"
    }
   },
   "outputs": [
    {
     "name": "stdout",
     "output_type": "stream",
     "text": [
      "Zebra runs!\n",
      "Horsey\n"
     ]
    }
   ],
   "source": [
    "x.run()"
   ]
  },
  {
   "cell_type": "markdown",
   "metadata": {
    "slideshow": {
     "slide_type": "slide"
    }
   },
   "source": [
    "# Functional Programming in Python\n",
    "\n",
    "Functional Programming Concepts:\n",
    "- Pure Functions - functions that do not have side effects.\n",
    "    - $sin(x)$ doesn't effect the $x$, right?\n",
    "- Immutability - the data cannot be changed after it was created.\n",
    "- Higher-Order Functions - functions can accept other functions as parameters. Just like $\\frac{d}{dx}(f,x) = f'(x)$.\n",
    "\n",
    "Python is not a functional programming language but it does incorporate some of its concepts.\n",
    "\n"
   ]
  },
  {
   "cell_type": "markdown",
   "metadata": {
    "slideshow": {
     "slide_type": "fragment"
    }
   },
   "source": [
    "## Immutability  in Python\n",
    "* If you'd like your functions to be pure give them immutable variables\n",
    "* Python offers data types that are immutable by nature \n",
    "    * `tuple` vs. `list`\n",
    "    * `set` vs. `frozenset`\n"
   ]
  },
  {
   "cell_type": "code",
   "execution_count": 44,
   "metadata": {
    "slideshow": {
     "slide_type": "subslide"
    }
   },
   "outputs": [
    {
     "name": "stdout",
     "output_type": "stream",
     "text": [
      "this is impossible\n"
     ]
    }
   ],
   "source": [
    "# Test immutable Python's objects\n",
    "\n",
    "immutable_collection = (3, 4, [3,4])\n",
    "mutable_collection = [3, 4, [3,4]]\n",
    "\n",
    "try:\n",
    "    immutable_collection[0] = 4\n",
    "    print(\"this is possible\")\n",
    "except:\n",
    "    print(\"this is impossible\") "
   ]
  },
  {
   "cell_type": "code",
   "execution_count": 45,
   "metadata": {
    "slideshow": {
     "slide_type": "fragment"
    }
   },
   "outputs": [
    {
     "name": "stdout",
     "output_type": "stream",
     "text": [
      "this is possible\n"
     ]
    }
   ],
   "source": [
    "try:\n",
    "    mutable_collection[0] = 4\n",
    "    print(\"this is possible\")\n",
    "except:\n",
    "    print(\"this is impossible\") "
   ]
  },
  {
   "cell_type": "markdown",
   "metadata": {
    "slideshow": {
     "slide_type": "subslide"
    }
   },
   "source": [
    "## Higher-Order Functions\n",
    "- Higher-Order Functions can accept other functions as parameters. e.g. the derivative operator $\\frac{d}{dx}$.\n",
    "- Python can handle this easily since everything in Python is an object, functions themselves can be passed as arguments to other functions.\n",
    "\n",
    "### `map()`\n",
    "The `map()` function applies a given function to each item of an iterable (list, tuple, etc.) and returns a list of the results.\n",
    "```python\n",
    "list(map(f, [a,b,c])) = [f(a), f(b), f(c)]\n",
    "```"
   ]
  },
  {
   "cell_type": "code",
   "execution_count": 46,
   "metadata": {
    "slideshow": {
     "slide_type": "fragment"
    }
   },
   "outputs": [
    {
     "name": "stdout",
     "output_type": "stream",
     "text": [
      "The type of z: <class 'map'>\n",
      "z consists: [4, 'dudedude', 6]\n"
     ]
    }
   ],
   "source": [
    "def double(x):\n",
    "    return x*2\n",
    "\n",
    "y = [2, \"dude\", 3]\n",
    "z = map(double, y)\n",
    "print(f'The type of z: {type(z)}')\n",
    "print(f'z consists: {list(z)}') "
   ]
  },
  {
   "cell_type": "markdown",
   "metadata": {
    "slideshow": {
     "slide_type": "subslide"
    }
   },
   "source": [
    "### Lambda Expressions\n",
    "- A lambda expression is an anonymous function \n",
    "    - A function that is defined without a name\n",
    "- Lambda expressions allow us to define a function much more quickly.\n",
    "- Those are defined using the keyword “lambda” (since the mathematical foundation of functional programming is called “lambda calculus”).\n"
   ]
  },
  {
   "cell_type": "code",
   "execution_count": 47,
   "metadata": {
    "slideshow": {
     "slide_type": "fragment"
    }
   },
   "outputs": [
    {
     "data": {
      "text/plain": [
       "8"
      ]
     },
     "execution_count": 47,
     "metadata": {},
     "output_type": "execute_result"
    }
   ],
   "source": [
    "# Restate `double` as lambda expression\n",
    "(lambda x: x*2)(4)"
   ]
  },
  {
   "cell_type": "code",
   "execution_count": 48,
   "metadata": {
    "slideshow": {
     "slide_type": "fragment"
    }
   },
   "outputs": [
    {
     "data": {
      "text/plain": [
       "6"
      ]
     },
     "execution_count": 48,
     "metadata": {},
     "output_type": "execute_result"
    }
   ],
   "source": [
    "# Here we did bind a name “double” to a function, but that isn’t obligatory\n",
    "double = (lambda x: x*2)\n",
    "double(3)"
   ]
  },
  {
   "cell_type": "markdown",
   "metadata": {
    "slideshow": {
     "slide_type": "subslide"
    }
   },
   "source": [
    "### Lambda Expressions - Converting Celsius to Fahrenheit"
   ]
  },
  {
   "cell_type": "code",
   "execution_count": 49,
   "metadata": {
    "slideshow": {
     "slide_type": "fragment"
    }
   },
   "outputs": [
    {
     "name": "stdout",
     "output_type": "stream",
     "text": [
      "<class 'map'>\n",
      "[39.2, 36.5, 37.300000000000004, 22.877777777777784]\n"
     ]
    }
   ],
   "source": [
    "F = [102.56, 97.7, 99.14, 73.18]\n",
    "C = map(lambda x: (5/9)*(x-32), F)\n",
    "print(type(C))\n",
    "C = list(C)\n",
    "print(C)"
   ]
  },
  {
   "cell_type": "markdown",
   "metadata": {
    "slideshow": {
     "slide_type": "fragment"
    }
   },
   "source": [
    "Lambda is usually used when you need a quick definition of function that you’ll use only in one place in your code."
   ]
  },
  {
   "cell_type": "markdown",
   "metadata": {
    "slideshow": {
     "slide_type": "subslide"
    }
   },
   "source": [
    "### Higher Order Functions - Filter\n",
    "The `filter()` function tests every element in an iterable object with a function that returns either True or False."
   ]
  },
  {
   "cell_type": "code",
   "execution_count": 50,
   "metadata": {
    "slideshow": {
     "slide_type": "fragment"
    }
   },
   "outputs": [
    {
     "name": "stdout",
     "output_type": "stream",
     "text": [
      "[39.2, 37.300000000000004]\n"
     ]
    }
   ],
   "source": [
    "high_temp = filter(lambda x: x > 36.8, C)\n",
    "print([item for item in C if item > 36.8])  # list comprehention\n",
    "# print(list(high_temp))"
   ]
  },
  {
   "cell_type": "markdown",
   "metadata": {},
   "source": [
    "# Modules"
   ]
  },
  {
   "cell_type": "markdown",
   "metadata": {},
   "source": [
    "* A module is a file (e.g. (my_func.py) containing Python script\n",
    "* We get the definitions from a module via `import` command "
   ]
  },
  {
   "cell_type": "code",
   "execution_count": 51,
   "metadata": {},
   "outputs": [
    {
     "name": "stdout",
     "output_type": "stream",
     "text": [
      "# Fibonacci numbers module\r\n",
      "a = 5\r\n",
      "def fib(n):    # write Fibonacci series up to n\r\n",
      "    a, b = 0, 1\r\n",
      "    while b < n:\r\n",
      "        print(b, end=' ')\r\n",
      "        a, b = b, a+b\r\n",
      "    print()\r\n",
      "\r\n",
      "def fib2(n):   # return Fibonacci series up to n\r\n",
      "    result = []\r\n",
      "    a, b = 0, 1\r\n",
      "    while b < n:\r\n",
      "        result.append(b)\r\n",
      "        a, b = b, a+b\r\n",
      "    return result\r\n"
     ]
    }
   ],
   "source": [
    "! cat fibo.py # show the contents of fibo.py file"
   ]
  },
  {
   "cell_type": "code",
   "execution_count": 53,
   "metadata": {},
   "outputs": [
    {
     "data": {
      "text/plain": [
       "[1, 1, 2, 3, 5, 8, 13]"
      ]
     },
     "execution_count": 53,
     "metadata": {},
     "output_type": "execute_result"
    }
   ],
   "source": [
    "import fibo\n",
    "\n",
    "fibo.fib2(15)"
   ]
  },
  {
   "cell_type": "markdown",
   "metadata": {},
   "source": [
    "* read more from here: https://docs.python.org/3.6/tutorial/modules.html"
   ]
  }
 ],
 "metadata": {
  "kernelspec": {
   "display_name": "Python 3",
   "language": "python",
   "name": "python3"
  },
  "language_info": {
   "codemirror_mode": {
    "name": "ipython",
    "version": 3
   },
   "file_extension": ".py",
   "mimetype": "text/x-python",
   "name": "python",
   "nbconvert_exporter": "python",
   "pygments_lexer": "ipython3",
   "version": "3.8.3"
  },
  "toc": {
   "base_numbering": 1,
   "nav_menu": {},
   "number_sections": true,
   "sideBar": true,
   "skip_h1_title": false,
   "title_cell": "Table of Contents",
   "title_sidebar": "Contents",
   "toc_cell": false,
   "toc_position": {
    "height": "372px",
    "left": "1067px",
    "top": "235px",
    "width": "243.795px"
   },
   "toc_section_display": true,
   "toc_window_display": true
  }
 },
 "nbformat": 4,
 "nbformat_minor": 4
}
