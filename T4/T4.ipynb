{
 "cells": [
  {
   "cell_type": "markdown",
   "metadata": {
    "slideshow": {
     "slide_type": "slide"
    }
   },
   "source": [
    "# Python Tutorial [4]\n",
    "- **Python as OOP**\n",
    "time to talk about what are classes.\n",
    "- **Python Functional Programming** "
   ]
  },
  {
   "cell_type": "markdown",
   "metadata": {
    "slideshow": {
     "slide_type": "slide"
    }
   },
   "source": [
    "# Python Classes and Objects\n",
    "- Everything in Python is an object.\n",
    "- Every object has a type and it is easy to create new types/classes.\n",
    "- To create a class, use the keyword class:"
   ]
  },
  {
   "cell_type": "code",
   "execution_count": 1,
   "metadata": {
    "slideshow": {
     "slide_type": "fragment"
    }
   },
   "outputs": [],
   "source": [
    "class Horse:\n",
    "    def __init__(self, name, amount_of_legs=4):\n",
    "        self.name = name\n",
    "        self.legs = amount_of_legs\n",
    "        \n",
    "    def run(self):\n",
    "        if self.legs == 4:\n",
    "            print('Im running!')\n",
    "        else:\n",
    "            print('Poor horse cannot run!')"
   ]
  },
  {
   "cell_type": "markdown",
   "metadata": {
    "slideshow": {
     "slide_type": "subslide"
    }
   },
   "source": [
    "## Python Classes\n",
    "```python\n",
    "def __init__(self, name, amount_of_legs=4):\n",
    "        self.name = name\n",
    "        self.legs = amount_of_legs\n",
    "```\n",
    "- `__init__()` is the costructor function. It initialize the attributes of the function.\n",
    "- `amount_of_legs=4` sets a default value.\n",
    "- Although possible, you don’t have to define a destructor (`__del__()`), and usually better off without it.\n",
    "- `self` is an object reference to the object itself (\"this\" in C).\n",
    "- All the class attributes are defined via `self.attribute`, and can be accessed by `object.attribute`.\n",
    "- In Python, all the members and methods are public by default."
   ]
  },
  {
   "cell_type": "markdown",
   "metadata": {
    "slideshow": {
     "slide_type": "subslide"
    }
   },
   "source": [
    "# Classes - Inheritance\n",
    "Inheritance allows us to define a class that inherits all the methods and properties from another class."
   ]
  },
  {
   "cell_type": "code",
   "execution_count": 2,
   "metadata": {
    "slideshow": {
     "slide_type": "fragment"
    }
   },
   "outputs": [],
   "source": [
    "class Zebra(Horse):\n",
    "    def run(self):\n",
    "        print(\"Zebra runs!\")\n",
    "        print(self.name)\n",
    "\n",
    "x  = Zebra(\"Horsey\", 7)\n",
    "# What will `x.run()` print?"
   ]
  },
  {
   "cell_type": "code",
   "execution_count": 3,
   "metadata": {
    "slideshow": {
     "slide_type": "fragment"
    }
   },
   "outputs": [
    {
     "name": "stdout",
     "output_type": "stream",
     "text": [
      "Zebra runs!\n",
      "Horsey\n"
     ]
    }
   ],
   "source": [
    "x.run()"
   ]
  },
  {
   "cell_type": "markdown",
   "metadata": {
    "slideshow": {
     "slide_type": "subslide"
    }
   },
   "source": [
    "# Classes - Inheritance\n",
    "- Multiple inheritance is supported.\n",
    "```python\n",
    "class Zebra(Horse, StripedBeing):\n",
    "    def run(self):\n",
    "        print(\"Zebra runs!\")\n",
    "        print(self.name)\n",
    "```"
   ]
  },
  {
   "cell_type": "markdown",
   "metadata": {
    "slideshow": {
     "slide_type": "fragment"
    }
   },
   "source": [
    "- It is possible to call a class method by Class.method(), but you have to provide an instance if a method expects to get one:\n",
    "```python\n",
    "x  = Zebra(\"Horsey\", 7)\n",
    "Zebra.run(x)\n",
    "x.run()\n",
    "```"
   ]
  },
  {
   "cell_type": "markdown",
   "metadata": {
    "slideshow": {
     "slide_type": "subslide"
    }
   },
   "source": [
    "# Classes - Constructors and Attributes\n",
    "- When an object is created, Python runs the `__init__()` function that initializes the attributes of the function.\n",
    "- More attributes can be defined outside of the constructor `__init__()`."
   ]
  },
  {
   "cell_type": "code",
   "execution_count": 4,
   "metadata": {
    "slideshow": {
     "slide_type": "fragment"
    }
   },
   "outputs": [
    {
     "name": "stdout",
     "output_type": "stream",
     "text": [
      "Im running!\n",
      "10\n"
     ]
    }
   ],
   "source": [
    "class Horse:\n",
    "    def __init__(self, name, amount_of_legs=4):\n",
    "        self.name = name\n",
    "        self.legs = amount_of_legs\n",
    "        \n",
    "    def run(self):\n",
    "        if self.legs == 4:\n",
    "            print('Im running!')\n",
    "        else:\n",
    "            print('Poor horse cannot run!')\n",
    "        self.running_speed = 10 # here we define an additional attribute\n",
    "\n",
    "x = Horse(\"Pony\")\n",
    "x.run()\n",
    "print(x.running_speed)"
   ]
  },
  {
   "cell_type": "markdown",
   "metadata": {
    "slideshow": {
     "slide_type": "subslide"
    }
   },
   "source": [
    "# Inner Working of Classes\n",
    "- A class uses a dictionary to store attributes. \n",
    "- This dictionary can be accessed by __dict__ attribute."
   ]
  },
  {
   "cell_type": "code",
   "execution_count": 6,
   "metadata": {
    "slideshow": {
     "slide_type": "fragment"
    }
   },
   "outputs": [
    {
     "name": "stdout",
     "output_type": "stream",
     "text": [
      "Im running!\n",
      "The dictionary of x:\n",
      "{'name': 'Pony', 'legs': 4, 'running_speed': 10}\n"
     ]
    }
   ],
   "source": [
    "x = Horse(\"Pony\")\n",
    "x.run()\n",
    "print(f'The dictionary of x:\\n{x.__dict__}')"
   ]
  },
  {
   "cell_type": "markdown",
   "metadata": {
    "slideshow": {
     "slide_type": "subslide"
    }
   },
   "source": [
    "# More Notes on Classes \n",
    " - Python can handle almost any classes manipulation that is possible in C++ .\n",
    "     - However, less used options are usually a bit obscure.\n",
    " - **Private methods**: \n",
    "     - Methods that are private can only be called by methods within the same class.\n",
    " - **Static methods**: \n",
    "     - A static method is a method that is shared by all instances of a class. \n",
    "     - You can call them without the need to instantiate the classes.\n",
    "\n",
    "- All of those are googleable"
   ]
  },
  {
   "cell_type": "markdown",
   "metadata": {
    "slideshow": {
     "slide_type": "slide"
    }
   },
   "source": [
    "# Functional Programming in Python\n",
    "\n",
    "Functional Programming Concepts:\n",
    "- Pure Functions - do not have side effects.\n",
    "- Immutability - data cannot be changed after it is created.\n",
    "- Higher Order Functions - functions can accept other functions as parameters.\n",
    "\n",
    "Python is not a functional programming language but it does incorporate some of its concepts.\n",
    "\n"
   ]
  },
  {
   "cell_type": "markdown",
   "metadata": {
    "slideshow": {
     "slide_type": "subslide"
    }
   },
   "source": [
    "### Pure Functions in Python\n",
    "If you'd like your functions to be pure, then just make sure you don't change the value of the input or any data that exists outside the function's scope.\n",
    "### Immutability  in Python\n",
    "Python offers data types that are immutable by nature (`tuple` vs. `list`)."
   ]
  },
  {
   "cell_type": "code",
   "execution_count": 7,
   "metadata": {
    "slideshow": {
     "slide_type": "subslide"
    }
   },
   "outputs": [
    {
     "name": "stdout",
     "output_type": "stream",
     "text": [
      "this is impossible\n"
     ]
    }
   ],
   "source": [
    "immutable_collection = (3, 4, [3,4])\n",
    "mutable_collection = [3, 4, [3,4]]\n",
    "\n",
    "try:\n",
    "    immutable_collection[0] = 4\n",
    "    print(\"this is possible\")\n",
    "except:\n",
    "    print(\"this is impossible\") "
   ]
  },
  {
   "cell_type": "code",
   "execution_count": 8,
   "metadata": {
    "slideshow": {
     "slide_type": "fragment"
    }
   },
   "outputs": [
    {
     "name": "stdout",
     "output_type": "stream",
     "text": [
      "this is possible\n"
     ]
    }
   ],
   "source": [
    "try:\n",
    "    mutable_collection[0] = 4\n",
    "    print(\"this is possible\")\n",
    "except:\n",
    "    print(\"this is impossible\") "
   ]
  },
  {
   "cell_type": "markdown",
   "metadata": {
    "slideshow": {
     "slide_type": "subslide"
    }
   },
   "source": [
    "### Higher-Order Functions\n",
    "- Higher-Order Functions can accept other functions as parameters.\n",
    "- Python can handle this easily since everything in Python is an object, functions themselves can be passed as arguments to other functions.\n",
    "\n",
    "For example the `map()` function applies a given function to each item of an iterable (list, tuple, etc.) and returns a list of the results."
   ]
  },
  {
   "cell_type": "code",
   "execution_count": 19,
   "metadata": {
    "slideshow": {
     "slide_type": "fragment"
    }
   },
   "outputs": [
    {
     "name": "stdout",
     "output_type": "stream",
     "text": [
      "The type of z: <class 'map'>\n",
      "z consists: [4, 'dudedude', 6]\n"
     ]
    }
   ],
   "source": [
    "def double(x):\n",
    "    return x*2\n",
    "\n",
    "y = [2, \"dude\", 3]\n",
    "z = map(double, y)\n",
    "print(f'The type of z: {type(z)}')\n",
    "print(f'z consists: {list(z)}')"
   ]
  },
  {
   "cell_type": "markdown",
   "metadata": {
    "slideshow": {
     "slide_type": "subslide"
    }
   },
   "source": [
    "### Lambda Expressions\n",
    "- A lambda expression is an anonymous function \n",
    "    - A function that is defined without a name\n",
    "- Lambda expressions allow us to define a function much more quickly.\n",
    "- Those are defined using the keyword “lambda” (since the mathematical foundation of functional programming is called “lambda calculus”).\n"
   ]
  },
  {
   "cell_type": "code",
   "execution_count": 20,
   "metadata": {
    "slideshow": {
     "slide_type": "fragment"
    }
   },
   "outputs": [
    {
     "data": {
      "text/plain": [
       "8"
      ]
     },
     "execution_count": 20,
     "metadata": {},
     "output_type": "execute_result"
    }
   ],
   "source": [
    "(lambda x: x*2)(4)"
   ]
  },
  {
   "cell_type": "code",
   "execution_count": 21,
   "metadata": {
    "slideshow": {
     "slide_type": "fragment"
    }
   },
   "outputs": [
    {
     "data": {
      "text/plain": [
       "6"
      ]
     },
     "execution_count": 21,
     "metadata": {},
     "output_type": "execute_result"
    }
   ],
   "source": [
    "# Here we did bind a name “double” to a function, but that isn’t obligatory\n",
    "double = (lambda x: x*2)\n",
    "double(3)"
   ]
  },
  {
   "cell_type": "markdown",
   "metadata": {
    "slideshow": {
     "slide_type": "subslide"
    }
   },
   "source": [
    "### Lambda Expressions - Converting Celsius to Fahrenheit"
   ]
  },
  {
   "cell_type": "code",
   "execution_count": 17,
   "metadata": {
    "slideshow": {
     "slide_type": "fragment"
    }
   },
   "outputs": [
    {
     "name": "stdout",
     "output_type": "stream",
     "text": [
      "[39.2, 36.5, 37.300000000000004, 22.877777777777784]\n"
     ]
    }
   ],
   "source": [
    "F = [102.56, 97.7, 99.14, 73.18]\n",
    "C = map(lambda x: (5/9)*(x-32), F)\n",
    "C = list(C)\n",
    "print(C)"
   ]
  },
  {
   "cell_type": "markdown",
   "metadata": {
    "slideshow": {
     "slide_type": "fragment"
    }
   },
   "source": [
    "Lambda is usually used when you need a quick definition of function that you’ll use only in one place in your code."
   ]
  },
  {
   "cell_type": "markdown",
   "metadata": {
    "slideshow": {
     "slide_type": "subslide"
    }
   },
   "source": [
    "### Higher Order Functions - Filter\n",
    "The `filter()` function tests every element in an iterable object with a function that returns either True or False."
   ]
  },
  {
   "cell_type": "code",
   "execution_count": 18,
   "metadata": {
    "slideshow": {
     "slide_type": "fragment"
    }
   },
   "outputs": [
    {
     "name": "stdout",
     "output_type": "stream",
     "text": [
      "[39.2, 37.300000000000004]\n"
     ]
    }
   ],
   "source": [
    "high_temp = filter(lambda x: x > 36.8, C)\n",
    "print(list(high_temp))"
   ]
  },
  {
   "cell_type": "markdown",
   "metadata": {
    "slideshow": {
     "slide_type": "slide"
    }
   },
   "source": [
    "# OOP and Functional programming - Why?\n",
    "- We can implement `filter()` with a pretty simple loop.\n",
    "- We can use `def func(x)`  instead of `lambda x:`.\n",
    "- We can establish nested functions instead of classes and objects. \n",
    "\n",
    "So why bother?\n",
    "- Improve code readability.\n",
    "- Ease code maintenance. \n",
    "\n",
    "Programming will always have many ways to do the same thing, and Python is Turing-complete even without those features, so one doesn’t have to use them if one doesn’t like them"
   ]
  }
 ],
 "metadata": {
  "celltoolbar": "Slideshow",
  "kernelspec": {
   "display_name": "Python 3",
   "language": "python",
   "name": "python3"
  },
  "language_info": {
   "codemirror_mode": {
    "name": "ipython",
    "version": 3
   },
   "file_extension": ".py",
   "mimetype": "text/x-python",
   "name": "python",
   "nbconvert_exporter": "python",
   "pygments_lexer": "ipython3",
   "version": "3.7.3"
  }
 },
 "nbformat": 4,
 "nbformat_minor": 2
}
